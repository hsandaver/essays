{
  "nbformat": 4,
  "nbformat_minor": 0,
  "metadata": {
    "colab": {
      "private_outputs": true,
      "provenance": [],
      "authorship_tag": "ABX9TyOEqCsdMc8pzUM++WtRQVJo",
      "include_colab_link": true
    },
    "kernelspec": {
      "name": "python3",
      "display_name": "Python 3"
    },
    "language_info": {
      "name": "python"
    }
  },
  "cells": [
    {
      "cell_type": "markdown",
      "metadata": {
        "id": "view-in-github",
        "colab_type": "text"
      },
      "source": [
        "<a href=\"https://colab.research.google.com/github/hsandaver/essays/blob/main/fashionprompt.ipynb\" target=\"_parent\"><img src=\"https://colab.research.google.com/assets/colab-badge.svg\" alt=\"Open In Colab\"/></a>"
      ]
    },
    {
      "cell_type": "code",
      "execution_count": null,
      "metadata": {
        "id": "53uLaiUcGrcS"
      },
      "outputs": [],
      "source": [
        "# Import necessary libraries\n",
        "import random\n",
        "import ipywidgets as widgets\n",
        "from IPython.display import display\n",
        "import glob\n",
        "import os\n",
        "from google.colab import files\n",
        "\n",
        "# Function to load keywords from text files and remove duplicates\n",
        "def load_keywords_from_files(files_dict):\n",
        "    keywords = set()\n",
        "    for filename, file_info in files_dict.items():\n",
        "        content = file_info['content'].decode('utf-8')\n",
        "        for line in content.splitlines():\n",
        "            keywords.add(line.strip())\n",
        "    return list(keywords)\n",
        "\n",
        "# File upload widget\n",
        "upload_button = widgets.FileUpload(accept='.txt', multiple=True)\n",
        "\n",
        "# Variables to store keywords\n",
        "subjects, settings, atmospheres, visual_elements, perspectives = [], [], [], [], []\n",
        "\n",
        "# Button widget to generate prompt\n",
        "generate_button = widgets.Button(description=\"Generate Random Fashion Editorial Prompt\")\n",
        "output = widgets.Output()\n",
        "\n",
        "# Function to process uploaded files\n",
        "def process_upload(change):\n",
        "    global subjects, settings, atmospheres, visual_elements, perspectives\n",
        "    files_dict = upload_button.value\n",
        "\n",
        "    # Load keywords and remove duplicates\n",
        "    keywords = load_keywords_from_files(files_dict)\n",
        "\n",
        "    # Assign loaded keywords to categories based on editorial fashion themes\n",
        "    if len(keywords) >= 5:\n",
        "        subjects = list(set(keywords[:len(keywords)//5]))\n",
        "        settings = list(set(keywords[len(keywords)//5:2*len(keywords)//5]))\n",
        "        atmospheres = list(set(keywords[2*len(keywords)//5:3*len(keywords)//5]))\n",
        "        visual_elements = list(set(keywords[3*len(keywords)//5:4*len(keywords)//5]))\n",
        "        perspectives = list(set(keywords[4*len(keywords)//5:]))\n",
        "\n",
        "    with output:\n",
        "        output.clear_output()\n",
        "        print(\"Files uploaded and keywords processed successfully.\")\n",
        "\n",
        "# Function to generate a random fashion editorial prompt\n",
        "def generate_prompt():\n",
        "    if not (subjects and settings and atmospheres and visual_elements and perspectives):\n",
        "        return \"Please upload the keyword files first.\"\n",
        "\n",
        "    # Ensure unique selection for each category\n",
        "    subject = random.choice(subjects)\n",
        "    setting = random.choice(settings)\n",
        "    atmosphere = random.choice(atmospheres)\n",
        "    visual_element = random.choice(visual_elements)\n",
        "    perspective = random.choice(perspectives)\n",
        "\n",
        "    # Generate a prompt suitable for a fine art fashion editorial\n",
        "    prompt = (\n",
        "        f\"A {atmosphere} fashion editorial featuring a {subject}, set in a {setting}. \"\n",
        "        f\"The scene is illuminated by {visual_element}, and captured from a {perspective} perspective. \"\n",
        "        f\"The styling is avant-garde, blending elements of high fashion with a {atmosphere} atmosphere.\"\n",
        "    )\n",
        "\n",
        "    # Limit the output length to approximately 75 words\n",
        "    words = prompt.split()\n",
        "    if len(words) > 75:\n",
        "        prompt = ' '.join(words[:75]) + '...'\n",
        "\n",
        "    return prompt\n",
        "\n",
        "# Define what happens when the button is clicked\n",
        "def on_button_click(b):\n",
        "    with output:\n",
        "        output.clear_output()\n",
        "        prompt = generate_prompt()\n",
        "        print(prompt)\n",
        "\n",
        "# Link the button click event to the function\n",
        "generate_button.on_click(on_button_click)\n",
        "\n",
        "# Link the file upload widget to the processing function\n",
        "upload_button.observe(process_upload, names='value')\n",
        "\n",
        "# Display the upload button, generate button, and output\n",
        "display(upload_button, generate_button, output)"
      ]
    }
  ]
}